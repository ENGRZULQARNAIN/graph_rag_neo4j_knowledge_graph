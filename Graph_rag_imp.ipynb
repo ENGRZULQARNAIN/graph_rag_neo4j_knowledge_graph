{
 "cells": [
  {
   "cell_type": "code",
   "execution_count": null,
   "id": "39229ee9-6852-48b5-a2f7-e5822f29fcfb",
   "metadata": {},
   "outputs": [],
   "source": [
    "# Author Zulqar nain"
   ]
  },
  {
   "cell_type": "markdown",
   "id": "5c4aa2c2-308c-4191-8f16-cbb9899122a3",
   "metadata": {},
   "source": [
    "# installing Dependencis"
   ]
  },
  {
   "cell_type": "code",
   "execution_count": 36,
   "id": "b05fc817-2cf5-4401-989b-80433a47f019",
   "metadata": {},
   "outputs": [
    {
     "name": "stdout",
     "output_type": "stream",
     "text": [
      "Note: you may need to restart the kernel to use updated packages.\n"
     ]
    }
   ],
   "source": [
    "%pip install --upgrade --quiet  langchain langchain-community langchain-openai langchain-experimental neo4j wikipedia tiktoken yfiles_jupyter_graphs"
   ]
  },
  {
   "cell_type": "code",
   "execution_count": 1,
   "id": "be34d65f-4f08-4e92-a25f-3873c01e68a6",
   "metadata": {},
   "outputs": [],
   "source": [
    "from langchain_core.runnables import (\n",
    "    RunnableBranch,\n",
    "    RunnableLambda,\n",
    "    RunnableParallel,\n",
    "    RunnablePassthrough,\n",
    ")\n",
    "from langchain_core.prompts import ChatPromptTemplate\n",
    "from langchain_core.prompts.prompt import PromptTemplate\n",
    "from langchain_core.pydantic_v1 import BaseModel, Field\n",
    "from typing import Tuple, List, Optional\n",
    "from langchain_core.messages import AIMessage, HumanMessage\n",
    "from langchain_core.output_parsers import StrOutputParser\n",
    "import os\n",
    "from langchain_community.graphs import Neo4jGraph\n",
    "from langchain.document_loaders import WikipediaLoader\n",
    "from langchain.text_splitter import TokenTextSplitter\n",
    "from langchain_openai import ChatOpenAI\n",
    "from langchain_experimental.graph_transformers import LLMGraphTransformer\n",
    "from neo4j import GraphDatabase\n",
    "from yfiles_jupyter_graphs import GraphWidget\n",
    "from langchain_community.vectorstores import Neo4jVector\n",
    "from langchain_openai import OpenAIEmbeddings\n",
    "from langchain_community.vectorstores.neo4j_vector import remove_lucene_chars\n",
    "from langchain_core.runnables import ConfigurableField, RunnableParallel, RunnablePassthrough\n"
   ]
  },
  {
   "cell_type": "code",
   "execution_count": null,
   "id": "357b08a8-31bd-4aa8-b97a-6ee0e0ee39ce",
   "metadata": {},
   "outputs": [],
   "source": [
    "# Setting up the envirements"
   ]
  },
  {
   "cell_type": "code",
   "execution_count": 23,
   "id": "dba87965-a894-49dd-a638-92877bbf1ed1",
   "metadata": {},
   "outputs": [],
   "source": [
    "os.environ[\"OPENAI_API_KEY\"] = \"your api key is  here \"\n",
    "os.environ[\"NEO4J_URI\"] = \"bolt://localhost:7687\"\n",
    "os.environ[\"NEO4J_USERNAME\"] = \"neo4j\"\n",
    "os.environ[\"NEO4J_PASSWORD\"] = \"12345678\"\n",
    "\n",
    "graph = Neo4jGraph()"
   ]
  },
  {
   "cell_type": "markdown",
   "id": "46f4f663-ca12-46da-8403-824edba7c478",
   "metadata": {},
   "source": [
    "# Loading Raw Data"
   ]
  },
  {
   "cell_type": "code",
   "execution_count": 7,
   "id": "b0d5392d-ee51-4484-977c-e997379d69dc",
   "metadata": {},
   "outputs": [],
   "source": [
    "from langchain_community.document_loaders import PyPDFLoader\n",
    "\n",
    "loader = PyPDFLoader(\"your_pdf.pdf\")\n",
    "documents = loader.load_and_split()"
   ]
  },
  {
   "cell_type": "code",
   "execution_count": 9,
   "id": "32bd086a-7053-437b-94bc-81060f723b21",
   "metadata": {},
   "outputs": [
    {
     "data": {
      "text/plain": [
       "4"
      ]
     },
     "execution_count": 9,
     "metadata": {},
     "output_type": "execute_result"
    }
   ],
   "source": [
    "len(documents)"
   ]
  },
  {
   "cell_type": "markdown",
   "id": "b8d52500-2258-4160-b5b3-154ee57bc010",
   "metadata": {},
   "source": [
    "# converting Raw documents to Graph Cipher"
   ]
  },
  {
   "cell_type": "code",
   "execution_count": 13,
   "id": "40ef23c7-f606-44a5-ab84-f1e74aa5eb66",
   "metadata": {},
   "outputs": [],
   "source": [
    "from langchain_experimental.graph_transformers import LLMGraphTransformer"
   ]
  },
  {
   "cell_type": "code",
   "execution_count": 25,
   "id": "702da442-6bc7-471b-9333-2b4f3de50e26",
   "metadata": {},
   "outputs": [],
   "source": [
    "llm = ChatOpenAI(temperature=0.0)"
   ]
  },
  {
   "cell_type": "code",
   "execution_count": 27,
   "id": "1780f5d4-bc57-43c8-abef-470de2768c99",
   "metadata": {},
   "outputs": [],
   "source": [
    "graph_tranformer=LLMGraphTransformer(llm=llm)"
   ]
  },
  {
   "cell_type": "code",
   "execution_count": 29,
   "id": "9ca42b6d-16a0-4d46-ba60-5fcc53aedf85",
   "metadata": {},
   "outputs": [],
   "source": [
    "graph_doc=graph_tranformer.convert_to_graph_documents(documents)"
   ]
  },
  {
   "cell_type": "code",
   "execution_count": 71,
   "id": "e8fb6c76-004c-40b2-aac6-4e8e8473139f",
   "metadata": {},
   "outputs": [
    {
     "data": {
      "text/plain": [
       "[GraphDocument(nodes=[Node(id='Kamran Umer', type='Person'), Node(id='Retrieval Augmented Generation (Rag)', type='Technology'), Node(id='Langchain', type='Technology'), Node(id='Openai', type='Technology'), Node(id='Fastapi', type='Technology'), Node(id='Ai Engineer', type='Job title'), Node(id='Uae Based Company', type='Company'), Node(id='Generative Ai', type='Technology'), Node(id='Natural Language Processing (Nlp)', type='Technology'), Node(id='Sinusitis', type='Medical condition'), Node(id='Pns X-Ray Images', type='Medical imaging'), Node(id='Machine Learning', type='Skill'), Node(id='Deep Learning', type='Skill'), Node(id='Computer Vision', type='Skill'), Node(id='Supervised & Unsupervised Learning', type='Skill'), Node(id='Rag Applications', type='Technology'), Node(id='Pytorch', type='Technology'), Node(id='Opencv', type='Technology'), Node(id='Numpy', type='Technology'), Node(id='Matplotlib', type='Technology'), Node(id='Keras', type='Technology'), Node(id='Pandas', type='Technology'), Node(id='Roboflow', type='Technology'), Node(id='Cvat', type='Technology'), Node(id='Makesence.Ai', type='Technology'), Node(id='Streamlit', type='Technology'), Node(id='Docker', type='Technology'), Node(id='Trello', type='Technology'), Node(id='Jira', type='Technology'), Node(id='Github', type='Technology'), Node(id='Slack', type='Technology'), Node(id='Clickup', type='Technology'), Node(id='Googl Colab', type='Technology'), Node(id='Pycharm', type='Technology'), Node(id='Visual Studio', type='Technology'), Node(id='Jupyter Notebook', type='Technology'), Node(id='Llms', type='Technology'), Node(id='Huggingface', type='Technology'), Node(id='Agents', type='Technology'), Node(id='Prompt Engineering', type='Technology'), Node(id='Vector Databases', type='Technology'), Node(id='Python', type='Programming language'), Node(id='C', type='Programming language'), Node(id='Cpp', type='Programming language')], relationships=[Relationship(source=Node(id='Kamran Umer', type='Person'), target=Node(id='Retrieval Augmented Generation (Rag)', type='Technology'), type='DEVELOPED'), Relationship(source=Node(id='Kamran Umer', type='Person'), target=Node(id='Langchain', type='Technology'), type='USED'), Relationship(source=Node(id='Kamran Umer', type='Person'), target=Node(id='Openai', type='Technology'), type='USED'), Relationship(source=Node(id='Kamran Umer', type='Person'), target=Node(id='Fastapi', type='Technology'), type='USED'), Relationship(source=Node(id='Kamran Umer', type='Person'), target=Node(id='Ai Engineer', type='Job title'), type='WORKED_AS'), Relationship(source=Node(id='Kamran Umer', type='Person'), target=Node(id='Uae Based Company', type='Company'), type='WORKED_WITH'), Relationship(source=Node(id='Kamran Umer', type='Person'), target=Node(id='Generative Ai', type='Technology'), type='FOCUSED_ON'), Relationship(source=Node(id='Kamran Umer', type='Person'), target=Node(id='Natural Language Processing (Nlp)', type='Technology'), type='FOCUSED_ON'), Relationship(source=Node(id='Kamran Umer', type='Person'), target=Node(id='Sinusitis', type='Medical condition'), type='AIMED_TO_DETECT_EARLY_USING_PNS_X-RAY_IMAGES'), Relationship(source=Node(id='Kamran Umer', type='Person'), target=Node(id='Pns X-Ray Images', type='Medical imaging'), type='USED_FOR_EARLY_DETECTION_OF_SINUSITIS'), Relationship(source=Node(id='Kamran Umer', type='Person'), target=Node(id='Machine Learning', type='Skill'), type='MAJOR_SKILL'), Relationship(source=Node(id='Kamran Umer', type='Person'), target=Node(id='Deep Learning', type='Skill'), type='MAJOR_SKILL'), Relationship(source=Node(id='Kamran Umer', type='Person'), target=Node(id='Computer Vision', type='Skill'), type='MAJOR_SKILL'), Relationship(source=Node(id='Kamran Umer', type='Person'), target=Node(id='Supervised & Unsupervised Learning', type='Skill'), type='MAJOR_SKILL'), Relationship(source=Node(id='Kamran Umer', type='Person'), target=Node(id='Rag Applications', type='Technology'), type='MAJOR_SKILL'), Relationship(source=Node(id='Kamran Umer', type='Person'), target=Node(id='Pytorch', type='Technology'), type='USED_FOR_ML_DEVELOPMENT'), Relationship(source=Node(id='Kamran Umer', type='Person'), target=Node(id='Opencv', type='Technology'), type='USED_FOR_ML_DEVELOPMENT'), Relationship(source=Node(id='Kamran Umer', type='Person'), target=Node(id='Numpy', type='Technology'), type='USED_FOR_ML_DEVELOPMENT'), Relationship(source=Node(id='Kamran Umer', type='Person'), target=Node(id='Matplotlib', type='Technology'), type='USED_FOR_ML_DEVELOPMENT'), Relationship(source=Node(id='Kamran Umer', type='Person'), target=Node(id='Keras', type='Technology'), type='USED_FOR_ML_DEVELOPMENT'), Relationship(source=Node(id='Kamran Umer', type='Person'), target=Node(id='Pandas', type='Technology'), type='USED_FOR_ML_DEVELOPMENT'), Relationship(source=Node(id='Kamran Umer', type='Person'), target=Node(id='Roboflow', type='Technology'), type='USED_FOR_DATA_LABELING'), Relationship(source=Node(id='Kamran Umer', type='Person'), target=Node(id='Cvat', type='Technology'), type='USED_FOR_DATA_LABELING'), Relationship(source=Node(id='Kamran Umer', type='Person'), target=Node(id='Makesence.Ai', type='Technology'), type='USED_FOR_DATA_LABELING'), Relationship(source=Node(id='Kamran Umer', type='Person'), target=Node(id='Streamlit', type='Technology'), type='USED_FOR_DEPLOYMENT'), Relationship(source=Node(id='Kamran Umer', type='Person'), target=Node(id='Fastapi', type='Technology'), type='USED_FOR_DEPLOYMENT'), Relationship(source=Node(id='Kamran Umer', type='Person'), target=Node(id='Docker', type='Technology'), type='USED_FOR_DEPLOYMENT'), Relationship(source=Node(id='Kamran Umer', type='Person'), target=Node(id='Trello', type='Technology'), type='USED_FOR_TEAM_&_PROJECT_MANAGEMENT'), Relationship(source=Node(id='Kamran Umer', type='Person'), target=Node(id='Jira', type='Technology'), type='USED_FOR_TEAM_&_PROJECT_MANAGEMENT'), Relationship(source=Node(id='Kamran Umer', type='Person'), target=Node(id='Github', type='Technology'), type='USED_FOR_TEAM_&_PROJECT_MANAGEMENT'), Relationship(source=Node(id='Kamran Umer', type='Person'), target=Node(id='Slack', type='Technology'), type='USED_FOR_TEAM_&_PROJECT_MANAGEMENT'), Relationship(source=Node(id='Kamran Umer', type='Person'), target=Node(id='Clickup', type='Technology'), type='USED_FOR_TEAM_&_PROJECT_MANAGEMENT'), Relationship(source=Node(id='Kamran Umer', type='Person'), target=Node(id='Googl Colab', type='Technology'), type='USED_AS_IDE'), Relationship(source=Node(id='Kamran Umer', type='Person'), target=Node(id='Pycharm', type='Technology'), type='USED_AS_IDE'), Relationship(source=Node(id='Kamran Umer', type='Person'), target=Node(id='Visual Studio', type='Technology'), type='USED_AS_IDE'), Relationship(source=Node(id='Kamran Umer', type='Person'), target=Node(id='Jupyter Notebook', type='Technology'), type='USED_AS_IDE'), Relationship(source=Node(id='Kamran Umer', type='Person'), target=Node(id='Llms', type='Technology'), type='USED_FOR_NLP'), Relationship(source=Node(id='Kamran Umer', type='Person'), target=Node(id='Huggingface', type='Technology'), type='USED_FOR_NLP'), Relationship(source=Node(id='Kamran Umer', type='Person'), target=Node(id='Agents', type='Technology'), type='USED_FOR_NLP'), Relationship(source=Node(id='Kamran Umer', type='Person'), target=Node(id='Prompt Engineering', type='Technology'), type='USED_FOR_NLP'), Relationship(source=Node(id='Kamran Umer', type='Person'), target=Node(id='Vector Databases', type='Technology'), type='USED_FOR_NLP'), Relationship(source=Node(id='Kamran Umer', type='Person'), target=Node(id='Python', type='Programming language'), type='KNOWN_PROGRAMMING_LANGUAGE'), Relationship(source=Node(id='Kamran Umer', type='Person'), target=Node(id='C', type='Programming language'), type='KNOWN_PROGRAMMING_LANGUAGE'), Relationship(source=Node(id='Kamran Umer', type='Person'), target=Node(id='Cpp', type='Programming language'), type='KNOWN_PROGRAMMING_LANGUAGE'), Relationship(source=Node(id='Kamran Umer', type='Person'), target=Node(id='Sinusitis', type='Medical condition'), type='FOCUSED_ON_IN_FINAL_YEAR_PROJECT'), Relationship(source=Node(id='Kamran Umer', type='Person'), target=Node(id='Pns X-Ray Images', type='Medical imaging'), type='USED_IN_FINAL_YEAR_PROJECT'), Relationship(source=Node(id='Kamran Umer', type='Person'), target=Node(id='Rlhf', type='Technique'), type='USED_FOR_FINE-TUNING_LARGE_LANGUAGE_MODELS'), Relationship(source=Node(id='Kamran Umer', type='Person'), target=Node(id='Lora', type='Technique'), type='USED_FOR_FINE-TUNING_LARGE_LANGUAGE_MODELS'), Relationship(source=Node(id='Kamran Umer', type='Person'), target=Node(id='Qlora', type='Technique'), type='USED_FOR_FINE-TUNING_LARGE_LANGUAGE_MODELS'), Relationship(source=Node(id='Kamran Umer', type='Person'), target=Node(id='Codellama-7B', type='Llms'), type='SPECIALLY_FINE-TUNED')], source=Document(metadata={'source': 'k_umer.pdf', 'page': 0, 'id': '609e829eed9c991df1586dec51bfe880'}, page_content='Developed a Retrival Augmented generation (RAG), real world production ready Applications\\nUsing Langchain, OpenAI,and FastApi. \\nDeveloped Different AI enabled user concentric chatbots for many real world problems.\\nWorked on web scraping from various sources and storing the data in a structured manner. As an AI engineer and 1+ proven industry experience remotely with UAE Based Company with\\na solid foundation in deep learning, artificial intelligence and RAG system, with a pronounced\\nfocus on Generative AI & Natural Language Processing (NLP). Eager to contribute my skills to\\na dynamic team and organization, where I can ingeniously solve complex problems and drive\\ninnovation.\\n The specific problem that our Final Year Project (FYP) aims to address is the early detection of\\nsinusitis using PNS X-ray images. This involves developing a computer vision system capable\\nof analyzing PNS X-rays and identifying abnormalities indicative of sinusitis. The system\\nshould provide accurate and timely diagnoses, reducing the reliance on subjective clinical\\nexaminations and improving the overall diagnostic process. Major Skills: Machine learning, Deep learning, Computer Vision, Supervised &\\nUnsupervised learning, Natural Language Processing(NLP), RAG Applications\\nMajor ML Development Stack: Pytorch, OpenCV, Numpy, Matplotlib, keras, Pandas \\nData labeling: Roboflow,CVAT, Makesence.ai \\nDeployment Skill: Streamlit, FastApi, Docker \\nModular approach Team & Project Management: Trello, Jira, GitHub, Slack, ClickUp \\nIDEs: Googl Colab, Pycharm, Visual studio, Jupyter notebook \\nNLP: LLMs(CodeLlama-7b, codegemma-7b),HuggingFace, LangChain(Agents, Prompt\\nEngineering, RAG, Vector Databases) \\nProgramming Languages: Python, C and CPP  linkedin.com/in/kamran-umer-5852b0214 \\nhttps://github.com/KamranUmer+92 3308373837\\nkamranumer080.com\\nTECHNICAL SKILLS\\nWORK EXPERIENCE  AI ENGINEERKAMRAN UMER\\nAI intern, Maktek.ai, UAE AI Developer, Maktek.ai, UAE\\nAutomated Sinusitis Detection using Deep Learning Worked on the fine-tuning of various large language models(LLM) for code generation\\nusing Reinforcement Learning with Human Feedback (RLHF). \\nUtilized Parameter-Efficient Fine- Tuning (PEFT) techniques, including LoRA and\\nQLoRA. Specially fine-tuned CodeLlama-7b etc. \\nSynthetic data generation from the give context, for the LLMs Fine-tuning. \\nSept 2023-2024 Dec 2023 - Feb 2024 March 2024 - july 2024 \\nFinal Year Project')),\n",
       " GraphDocument(nodes=[Node(id='Professional Experience', type='Experience'), Node(id='Data Collection', type='Activity'), Node(id='Challenges', type='Activity'), Node(id='Ethical Issues', type='Challenge'), Node(id='Data Cleaning', type='Activity'), Node(id='Classification', type='Activity'), Node(id='Dataset Creation', type='Activity'), Node(id='Images Annotation', type='Activity'), Node(id='Augmentation Techniques', type='Activity'), Node(id=\"Model'S Training\", type='Activity'), Node(id='Fine-Tuned Yolo-Nas Model', type='Model'), Node(id='Yolo-Nas Model', type='Model'), Node(id='X-Ray Images', type='Data'), Node(id='Pns Detection', type='Activity'), Node(id='Fine-Tuned Yolov5S Model', type='Model'), Node(id='Yolov5S Model', type='Model'), Node(id='Hyperparameters', type='Data'), Node(id='Deployment', type='Activity'), Node(id='Trained Models', type='Model'), Node(id='Streamlit', type='Tool'), Node(id='Ai Development', type='Activity'), Node(id='Ai Developer', type='Person'), Node(id='Saas Tool', type='Tool'), Node(id='Retrieval-Augmented Generation', type='Technique'), Node(id='Rag', type='Technique'), Node(id='Ai-Powered Solutions', type='Solution'), Node(id='Technical Innovation', type='Innovation')], relationships=[Relationship(source=Node(id='Professional Experience', type='Experience'), target=Node(id='Data Collection', type='Activity'), type='PERFORMED'), Relationship(source=Node(id='Professional Experience', type='Experience'), target=Node(id='Challenges', type='Activity'), type='FACED'), Relationship(source=Node(id='Professional Experience', type='Experience'), target=Node(id='Data Cleaning', type='Activity'), type='PERFORMED'), Relationship(source=Node(id='Professional Experience', type='Experience'), target=Node(id='Classification', type='Activity'), type='PERFORMED'), Relationship(source=Node(id='Data Cleaning', type='Activity'), target=Node(id='Images Annotation', type='Activity'), type='PERFORMED'), Relationship(source=Node(id='Classification', type='Activity'), target=Node(id='Images Annotation', type='Activity'), type='COLLABORATED'), Relationship(source=Node(id='Dataset Creation', type='Activity'), target=Node(id='Images Annotation', type='Activity'), type='PERFORMED'), Relationship(source=Node(id='Dataset Creation', type='Activity'), target=Node(id='Augmentation Techniques', type='Activity'), type='PERFORMED'), Relationship(source=Node(id='Augmentation Techniques', type='Activity'), target=Node(id='Images Annotation', type='Activity'), type='PERFORMED'), Relationship(source=Node(id=\"Model'S Training\", type='Activity'), target=Node(id='Fine-Tuned Yolo-Nas Model', type='Model'), type='PERFORMED'), Relationship(source=Node(id='Fine-Tuned Yolo-Nas Model', type='Model'), target=Node(id='Yolo-Nas Model', type='Model'), type='USED_FOR_TRAINING'), Relationship(source=Node(id='Fine-Tuned Yolo-Nas Model', type='Model'), target=Node(id='X-Ray Images', type='Data'), type='USED_FOR_TRAINING'), Relationship(source=Node(id='Fine-Tuned Yolo-Nas Model', type='Model'), target=Node(id='Pns Detection', type='Activity'), type='ACHIEVED_ACCURACY'), Relationship(source=Node(id=\"Model'S Training\", type='Activity'), target=Node(id='Fine-Tuned Yolov5S Model', type='Model'), type='PERFORMED'), Relationship(source=Node(id='Fine-Tuned Yolov5S Model', type='Model'), target=Node(id='Yolov5S Model', type='Model'), type='USED_FOR_TRAINING'), Relationship(source=Node(id='Fine-Tuned Yolov5S Model', type='Model'), target=Node(id='Hyperparameters', type='Data'), type='ADJUSTED_FOR_PERFORMANCE'), Relationship(source=Node(id='Fine-Tuned Yolov5S Model', type='Model'), target=Node(id='Pns Detection', type='Activity'), type='ACHIEVED_HIGH_CONFIDENCE'), Relationship(source=Node(id='Deployment', type='Activity'), target=Node(id='Trained Models', type='Model'), type='DEPLOYED'), Relationship(source=Node(id='Deployment', type='Activity'), target=Node(id='Streamlit', type='Tool'), type='USED_FOR_DEPLOYMENT'), Relationship(source=Node(id='Ai Development', type='Activity'), target=Node(id='Ai Developer', type='Person'), type='LED_BY'), Relationship(source=Node(id='Ai Development', type='Activity'), target=Node(id='Saas Tool', type='Tool'), type='DESIGNED_FOR'), Relationship(source=Node(id='Ai Development', type='Activity'), target=Node(id='Retrieval-Augmented Generation', type='Technique'), type='EMPLOYED'), Relationship(source=Node(id='Retrieval-Augmented Generation', type='Technique'), target=Node(id='Ai-Powered Solutions', type='Solution'), type='ENHANCED_BY'), Relationship(source=Node(id='Ai Development', type='Activity'), target=Node(id='Ai-Powered Solutions', type='Solution'), type='FOCUSED_ON'), Relationship(source=Node(id='Ai Development', type='Activity'), target=Node(id='Technical Innovation', type='Innovation'), type='CONTRIBUTED_TO')], source=Document(metadata={'source': 'k_umer.pdf', 'page': 1, 'id': 'a77fbfe7a846a0e4c9b29968971a11f2'}, page_content=\"Professional Experience . Data Collection and Challenges \\nOur team visited various laboratories and hospitals to collect diverse dataset essential for the\\nsuccess of our project. In which we face a lot of challenges.\\nNon availability of quality images . Image can’t transfer to other system . Limited number of\\ndata\\nEthical issues\\nData Cleaning and Classification \\nExhaustively analyzed the images and removed the vague images.\\nCollaboratively classified images with the assistance of radiologists.\\nDataset Creation \\nImages are annotated using Roboflow. Additionally, augmentation techniques are applied to\\nincrease the dataset size, enhancing the diversity and robustness of the training data. Methods\\nsuch as rotation, scaling, and flipping were utilized to augment the existing images, effectively\\nexpanding the dataset and improving the model's ability to generalize to new examples\\nModel’s Training \\n1. Fine-tuned of the YOLO-NAS model using a dataset comprising 334 X-ray images. The\\ntraining process spanned 100 epochs and resulted in a notable accuracy, with the model\\nachieving a confidence value of 0.81 in detecting PNS. This demonstrated the model’s\\neffectiveness even with a relatively small dataset, highlighting efficient data utilization and\\nrobust training practices.\\n2. Successfully fine-tuned the YOLOv5s model for Paranasal Sinus (PNS) detection, achieving\\na high confidence value of 0.91. This involved adjusting hyperparameters to enhance its\\nperformance specifically for PNS detection in X-ray images.\\nDeployment \\nDeployed the trained models on Streamlit to facilitate real-time inference and visualization. \\nThis deployment allows for user-friendly interaction and immediate feedback, enabling efficient\\nand accessible PNS detection from X-ray images. Link is given bellow \\nURL: https://pns-detection.streamlit.app/\\nAI Development: Led the AI development for a sophisticated SaaS tool designed to\\nautomate the creation of chatbots. Specialized in employing the Retrieval-Augmented\\nGeneration (RAG) technique to enable dynamic information retrieval and response\\ngeneration. \\nRetrieval-Augmented Generation: Integrated RAG to enhance the chatbot’s ability to\\nextract and utilize relevant information from provided website links or document files. This\\napproach significantly improved the accuracy and contextual relevance of the chatbots. \\nAI-Powered Solutions: Focused on leveraging AI to streamline the chatbot creation\\nprocess, ensuring that users can generate effective chatbots with minimal input and\\nmaximum relevance to their specific content needs. \\nTechnical Innovation: Contributed to the core AI capabilities of the product, making it\\npossible for non-technical users to benefit from advanced AI without requiring in-depth\\nknowledge of the underlying technologies.AI Developer | Optimal Access May 2024\")),\n",
       " GraphDocument(nodes=[Node(id='Ordering.Co', type='Company'), Node(id='University Of Engineering And Technology Mardan (Uetm)', type='University'), Node(id='Ai-Powered Application To Recommend Doctors', type='Application'), Node(id='Healthy Plants Ai', type='Application')], relationships=[Relationship(source=Node(id='Ordering.Co', type='Company'), target=Node(id='Giftify Assistant Chatbot', type='Nlp rule-based chatbot developer'), type='DEVELOPED'), Relationship(source=Node(id='University Of Engineering And Technology Mardan (Uetm)', type='University'), target=Node(id='Uetm Chatbot', type='Nlp rule-based chatbot developer'), type='DEVELOPED'), Relationship(source=Node(id='Ai-Powered Application To Recommend Doctors', type='Application'), target=Node(id='Doctorconnect Ai', type='Health care'), type='DEVELOPED'), Relationship(source=Node(id='Healthy Plants Ai', type='Application'), target=Node(id='Horticure', type='Healthy plants ai'), type='DEVELOPED')], source=Document(metadata={'source': 'k_umer.pdf', 'page': 2, 'id': '82db04d6e157551236b4f04636a415fa'}, page_content=\"Development and Implementation: Developed a rule-based chatbot tailored for\\nOrdering.co, a leading gifting website. \\nRule-Based Interaction: Structured the chatbot to handle inquiries through a set of\\npredefined rules, enabling consistent and reliable responses related to gift selections,\\ncustomization options, and delivery details. \\nUser-Friendly Interface: Implemented an intuitive chat interface that allows users to\\ninteract effectively, making the process of choosing and ordering gifts straightforward and\\nuser-friendly.\\nURL:\\nhttps://page.botpenguin.com/65d5dac886e0799ae5d43660/65d33cd898846b9ec325d934 \\nDeveloped a rule-based chatbot for acquiring information about the University of Engineering\\nand Technology Mardan (UETM), utilizing natural language processing techniques and Python\\nprogramming. \\nLeveraged user queries to deliver tailored information about UETM's programs, faculty,\\nadmissions, and campus facilities, enhancing the overall user experience and engagement. \\nImplemented a user-friendly chat interface, enabling prospective students to interact naturally\\nwhile seeking information about UETM. Integration: We haven't granted access to integrate\\nwith the uetm.com website up to now. \\nIncorporate machine learning algorithms for enhanced understanding of user queries and\\nmore accurate information retrieval. \\nURL: https://creator.voiceflow.com/prototype/65dc0ed4151b57014a9539ebAI-powered application to recommend doctors based on user preferences through\\ninteractive Q&A. \\nScrapped and structured data from various online sources to create a comprehensive\\ndoctor database. \\nImplemented a Retrieval-Augmented Generation (RAG) model for accurate and\\npersonalized doctor recommendations. \\nUtilized LangChain, Hugging Face, ChromaDB, and prompt engineering for advanced\\nlanguage processing and data retrieval. \\nDeployed on Streamlit which is globally available.\\nURL: https://doctorconnectai.streamlit.app/\\nGiftify Assistant Chatbot | (Ordering.co)NLP Rule-Based Chatbot Developer | (UETM) DoctorConnect AI -- Health Care \\n Dec 2023 January 2024 June 2023 \\nHortiCure | Healthy Plants Ai\\nDeveloped a web-based application using Streamlit to address plant disease classification\\nand treatment. \\nDesigned a cutting-edge Convolutional Neural Network (CNN) model for the precise\\ndisease classification of plant diseases, achieving exceptional performance metrics close\\nto an impressive 97%. \\nDeveloped a Chatbot using LLM, Langchain, and vector database for Customized\\ntreatment recommendations \\nThis project's impact is in aiding agriculture by improving disease management and\\ndemonstrating my skills in, deep learning, computer vision, and LLM, for societal benefit. \\nURL: https://horticure.streamlit.app/ Nov 2023\")),\n",
       " GraphDocument(nodes=[Node(id='Python For Data Science And Artificial Intelligence: Ibm Coursera', type='Course'), Node(id='Machine Learning Specialization Stanford University Coursera', type='Course'), Node(id='Deep Learning Specialization Stanford University Coursera', type='Course'), Node(id='Natural Language Processing (Nlp) Hugging Face Learn', type='Course'), Node(id='Generative Ai With Large Language Models (Deeplearning.Ai)', type='Course'), Node(id='Bachelor In Computer Science', type='Certification'), Node(id='University Of Engineering And Technology, Mardan', type='Certification'), Node(id='Mri Brain Tumor Segmentation | Precision Medicine Lab, Peshawar', type='Education')], relationships=[Relationship(source=Node(id='Mri Brain Tumor Segmentation | Precision Medicine Lab, Peshawar', type='Education'), target=Node(id='Python For Data Science And Artificial Intelligence: Ibm Coursera', type='Course'), type='COMPLETED'), Relationship(source=Node(id='Mri Brain Tumor Segmentation | Precision Medicine Lab, Peshawar', type='Education'), target=Node(id='Machine Learning Specialization Stanford University Coursera', type='Course'), type='COMPLETED'), Relationship(source=Node(id='Mri Brain Tumor Segmentation | Precision Medicine Lab, Peshawar', type='Education'), target=Node(id='Deep Learning Specialization Stanford University Coursera', type='Course'), type='COMPLETED'), Relationship(source=Node(id='Mri Brain Tumor Segmentation | Precision Medicine Lab, Peshawar', type='Education'), target=Node(id='Natural Language Processing (Nlp) Hugging Face Learn', type='Course'), type='COMPLETED'), Relationship(source=Node(id='Mri Brain Tumor Segmentation | Precision Medicine Lab, Peshawar', type='Education'), target=Node(id='Generative Ai With Large Language Models (Deeplearning.Ai)', type='Course'), type='COMPLETED'), Relationship(source=Node(id='Mri Brain Tumor Segmentation | Precision Medicine Lab, Peshawar', type='Education'), target=Node(id='Bachelor In Computer Science', type='Certification'), type='COMPLETED'), Relationship(source=Node(id='Mri Brain Tumor Segmentation | Precision Medicine Lab, Peshawar', type='Education'), target=Node(id='University Of Engineering And Technology, Mardan', type='Certification'), type='COMPLETED')], source=Document(metadata={'source': 'k_umer.pdf', 'page': 3, 'id': 'c1c32f5393730676eefae4b8de8a5ab0'}, page_content='Python for Data Science and Artificial Intelligence: IBM Coursera. (one Course). \\nMachine Learning Specialization Stanford University Coursera (Three Courses). \\nDeep Learning Specialization Stanford University Coursera (Two Courses). \\nNatural language processing (NLP) Hugging Face Learn (One Course) Generative  AI with\\nLarge Language Models (Deeplearning.ai)COURCES AND CERTIFICATIONS Bachelor in Computer Science , University of Engineering and Technology, Mardan\\nCGPA 3.35/4EDUCATIONMRI Brain Tumor Segmentation | Precision Medicine Lab, Peshawar \\nProject Implementation: Spearheaded the development and implementation of a brain\\ntumor segmentation utilizing YOLOv7 model, enhancing the accuracy of tumor detection in\\nMRI scans. \\nData Labeling: Labeled dataset using Makesense.ai. \\nData Management: Managed a sensitive dataset of MRI brain scans, ensuring data\\nintegrity and format compatibility with YOLOv7 requirements. \\nSoftware Development: Oversaw the end-to-end setup from cloning and setting up the\\nYOLOv7 repository, installing dependencies, to configuring and training the model. \\nModel Training and Validation: Directed the training process using customized\\nconfigurations, evaluated model performance on validation sets, and refined techniques to\\nboost accuracy. Accuracy: The training process spanned 150 epochs and resulted in a\\nnotable accuracy with the model achieving a confidence value up to 0.91 in finding Brain\\nTumor.\\nURL: https://github.com/KamranUmer/MRI-Tumor-segmentation Nov 2023'))]"
      ]
     },
     "execution_count": 71,
     "metadata": {},
     "output_type": "execute_result"
    }
   ],
   "source": [
    "graph_doc"
   ]
  },
  {
   "cell_type": "markdown",
   "id": "8458f239-90a7-41e1-b846-57a7c6d903eb",
   "metadata": {},
   "source": [
    "# Adding grpah Cipher to Graph Database  (neo4j)"
   ]
  },
  {
   "cell_type": "code",
   "execution_count": 30,
   "id": "0f65e58b-941f-44bf-aa16-594eed2f5bff",
   "metadata": {},
   "outputs": [],
   "source": [
    "graph.add_graph_documents(\n",
    "    graph_doc,\n",
    "    baseEntityLabel=True,\n",
    "    include_source=True\n",
    ")"
   ]
  },
  {
   "cell_type": "markdown",
   "id": "164dd3a9-d430-4420-9846-a584e7d9583b",
   "metadata": {},
   "source": [
    "# Displaying Graph of your data "
   ]
  },
  {
   "cell_type": "code",
   "execution_count": 53,
   "id": "4ba1ae66-fd3a-45ad-ba09-6a309a08e824",
   "metadata": {},
   "outputs": [
    {
     "data": {
      "application/vnd.jupyter.widget-view+json": {
       "model_id": "30ee863b7ee44d76b5d36784ba59cfee",
       "version_major": 2,
       "version_minor": 0
      },
      "text/plain": [
       "GraphWidget(layout=Layout(height='800px', width='100%'))"
      ]
     },
     "metadata": {},
     "output_type": "display_data"
    }
   ],
   "source": [
    "# directly show the graph resulting from the given Cypher query\n",
    "default_cypher = \"MATCH (s)-[r:!MENTIONS]->(t) RETURN s,r,t LIMIT 50\"\n",
    "\n",
    "def showGraph(cypher: str = default_cypher):\n",
    "    # create a neo4j session to run queries\n",
    "    driver = GraphDatabase.driver(\n",
    "        uri = os.environ[\"NEO4J_URI\"],\n",
    "        auth = (os.environ[\"NEO4J_USERNAME\"],\n",
    "                os.environ[\"NEO4J_PASSWORD\"]))\n",
    "    session = driver.session()\n",
    "    widget = GraphWidget(graph = session.run(cypher).graph())\n",
    "    widget.node_label_mapping = 'id'\n",
    "    #display(widget)\n",
    "    return widget\n",
    "\n",
    "showGraph()"
   ]
  },
  {
   "cell_type": "markdown",
   "id": "bc85b655-baac-4094-abf1-0e413819de3c",
   "metadata": {},
   "source": [
    "# creating embedding of Graph rag"
   ]
  },
  {
   "cell_type": "code",
   "execution_count": 55,
   "id": "1ed2a479-72f9-4213-9e05-0082bef2276d",
   "metadata": {},
   "outputs": [],
   "source": [
    "from langchain_openai import OpenAIEmbeddings"
   ]
  },
  {
   "cell_type": "code",
   "execution_count": 57,
   "id": "c68b3119-b9cd-42bd-b82c-f7b5575ade68",
   "metadata": {},
   "outputs": [],
   "source": [
    "vector_index = Neo4jVector.from_existing_graph(\n",
    "    OpenAIEmbeddings(),\n",
    "    search_type=\"hybrid\",\n",
    "    node_label=\"Document\",\n",
    "    text_node_properties=[\"text\"],\n",
    "    embedding_node_property=\"embedding\"\n",
    ")"
   ]
  },
  {
   "cell_type": "markdown",
   "id": "f95d6a31-6813-4e78-bdcd-48c576cc5bb3",
   "metadata": {},
   "source": [
    "# Devolping a custom Chain for Graph Rag"
   ]
  },
  {
   "cell_type": "code",
   "execution_count": 59,
   "id": "cba0f54d-2f29-4cdc-b7ee-2b6786e17647",
   "metadata": {},
   "outputs": [],
   "source": [
    "# Retriever\n",
    "\n",
    "graph.query(\n",
    "    \"CREATE FULLTEXT INDEX entity IF NOT EXISTS FOR (e:__Entity__) ON EACH [e.id]\")\n",
    "\n",
    "# Extract entities from text\n",
    "class Entities(BaseModel):\n",
    "    \"\"\"Identifying information about entities.\"\"\"\n",
    "\n",
    "    names: List[str] = Field(\n",
    "        ...,\n",
    "        description=\"All the person, organization, or business entities that \"\n",
    "        \"appear in the text\",\n",
    "    )\n",
    "\n",
    "prompt = ChatPromptTemplate.from_messages(\n",
    "    [\n",
    "        (\n",
    "            \"system\",\n",
    "            \"You are extracting organization and person entities from the text.\",\n",
    "        ),\n",
    "        (\n",
    "            \"human\",\n",
    "            \"Use the given format to extract information from the following \"\n",
    "            \"input: {question}\",\n",
    "        ),\n",
    "    ]\n",
    ")\n",
    "\n",
    "entity_chain = prompt | llm.with_structured_output(Entities)"
   ]
  },
  {
   "cell_type": "code",
   "execution_count": null,
   "id": "77f1c75c-5858-4882-b838-fed528b21ede",
   "metadata": {},
   "outputs": [],
   "source": [
    "entity_chain.invoke({\"question\": \"who is zulqarnian\"})"
   ]
  },
  {
   "cell_type": "code",
   "execution_count": 67,
   "id": "2a8c39ea-3159-4acc-85c9-2ec2c9dff113",
   "metadata": {},
   "outputs": [],
   "source": [
    "def generate_full_text_query(input: str) -> str:\n",
    "    \"\"\"\n",
    "    Generate a full-text search query for a given input string.\n",
    "\n",
    "    This function constructs a query string suitable for a full-text search.\n",
    "    It processes the input string by splitting it into words and appending a\n",
    "    similarity threshold (~2 changed characters) to each word, then combines\n",
    "    them using the AND operator. Useful for mapping entities from user questions\n",
    "    to database values, and allows for some misspelings.\n",
    "    \"\"\"\n",
    "    full_text_query = \"\"\n",
    "    words = [el for el in remove_lucene_chars(input).split() if el]\n",
    "    for word in words[:-1]:\n",
    "        full_text_query += f\" {word}~2 AND\"\n",
    "    full_text_query += f\" {words[-1]}~2\"\n",
    "    return full_text_query.strip()\n",
    "\n",
    "# Fulltext index query\n",
    "def structured_retriever(question: str) -> str:\n",
    "    \"\"\"\n",
    "    Collects the neighborhood of entities mentioned\n",
    "    in the question\n",
    "    \"\"\"\n",
    "    result = \"\"\n",
    "    entities = entity_chain.invoke({\"question\": question})\n",
    "    for entity in entities.names:\n",
    "        response = graph.query(\n",
    "            \"\"\"CALL db.index.fulltext.queryNodes('entity', $query, {limit:2})\n",
    "            YIELD node,score\n",
    "            CALL {\n",
    "              WITH node\n",
    "              MATCH (node)-[r:!MENTIONS]->(neighbor)\n",
    "              RETURN node.id + ' - ' + type(r) + ' -> ' + neighbor.id AS output\n",
    "              UNION ALL\n",
    "              WITH node\n",
    "              MATCH (node)<-[r:!MENTIONS]-(neighbor)\n",
    "              RETURN neighbor.id + ' - ' + type(r) + ' -> ' +  node.id AS output\n",
    "            }\n",
    "            RETURN output LIMIT 50\n",
    "            \"\"\",\n",
    "            {\"query\": generate_full_text_query(entity)},\n",
    "        )\n",
    "        result += \"\\n\".join([el['output'] for el in response])\n",
    "    return result"
   ]
  },
  {
   "cell_type": "code",
   "execution_count": null,
   "id": "257c9542-7d02-46e5-bb8a-06c431a9f586",
   "metadata": {},
   "outputs": [],
   "source": [
    "print(structured_retriever(\"Who is zulqarnain\"))"
   ]
  },
  {
   "cell_type": "code",
   "execution_count": null,
   "id": "41eeeb69-bb01-493c-bd7e-16915d106bb4",
   "metadata": {},
   "outputs": [],
   "source": []
  }
 ],
 "metadata": {
  "kernelspec": {
   "display_name": "Python 3 (ipykernel)",
   "language": "python",
   "name": "python3"
  },
  "language_info": {
   "codemirror_mode": {
    "name": "ipython",
    "version": 3
   },
   "file_extension": ".py",
   "mimetype": "text/x-python",
   "name": "python",
   "nbconvert_exporter": "python",
   "pygments_lexer": "ipython3",
   "version": "3.12.4"
  }
 },
 "nbformat": 4,
 "nbformat_minor": 5
}
